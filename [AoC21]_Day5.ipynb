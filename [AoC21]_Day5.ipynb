{
  "nbformat": 4,
  "nbformat_minor": 0,
  "metadata": {
    "colab": {
      "name": "[AoC21]_Day5.ipynb",
      "provenance": [],
      "authorship_tag": "ABX9TyPnAMU79JyHXVT25EjadfWg",
      "include_colab_link": true
    },
    "kernelspec": {
      "name": "python3",
      "display_name": "Python 3"
    },
    "language_info": {
      "name": "python"
    }
  },
  "cells": [
    {
      "cell_type": "markdown",
      "metadata": {
        "id": "view-in-github",
        "colab_type": "text"
      },
      "source": [
        "<a href=\"https://colab.research.google.com/github/dmarx/advent-of-code_2021/blob/main/%5BAoC21%5D_Day5.ipynb\" target=\"_parent\"><img src=\"https://colab.research.google.com/assets/colab-badge.svg\" alt=\"Open In Colab\"/></a>"
      ]
    },
    {
      "cell_type": "markdown",
      "metadata": {
        "id": "aXJavNvA0m3F"
      },
      "source": [
        "# Day 5: Hydrothermal Venture\n",
        "\n",
        "## Part One\n",
        "\n",
        "You come across a field of hydrothermal vents on the ocean floor! These vents constantly produce large, opaque clouds, so it would be best to avoid them if possible.\n",
        "\n",
        "They tend to form in lines; the submarine helpfully produces a list of nearby lines of vents (your puzzle input) for you to review. For example:\n"
      ]
    },
    {
      "cell_type": "code",
      "metadata": {
        "id": "IRIvV6kY0tyF"
      },
      "source": [
        "test_input = \"\"\"\n",
        "0,9 -> 5,9\n",
        "8,0 -> 0,8\n",
        "9,4 -> 3,4\n",
        "2,2 -> 2,1\n",
        "7,0 -> 7,4\n",
        "6,4 -> 2,0\n",
        "0,9 -> 2,9\n",
        "3,4 -> 1,4\n",
        "0,0 -> 8,8\n",
        "5,5 -> 8,2\n",
        "\"\"\".strip()"
      ],
      "execution_count": 1,
      "outputs": []
    },
    {
      "cell_type": "markdown",
      "metadata": {
        "id": "L0oImvgR0zM-"
      },
      "source": [
        "Each line of vents is given as a line segment in the format x1,y1 -> x2,y2 where x1,y1 are the coordinates of one end the line segment and x2,y2 are the coordinates of the other end. These line segments include the points at both ends. In other words:\n",
        "\n",
        "- An entry like 1,1 -> 1,3 covers points 1,1, 1,2, and 1,3.\n",
        "- An entry like 9,7 -> 7,7 covers points 9,7, 8,7, and 7,7.\n",
        "\n",
        "For now, only consider horizontal and vertical lines: lines where either x1 = x2 or y1 = y2.\n",
        "\n",
        "So, the horizontal and vertical lines from the above list would produce the following diagram:\n",
        "\n",
        "```\n",
        ".......1..\n",
        "..1....1..\n",
        "..1....1..\n",
        ".......1..\n",
        ".112111211\n",
        "..........\n",
        "..........\n",
        "..........\n",
        "..........\n",
        "222111....\n",
        "```\n",
        "\n",
        "In this diagram, the top left corner is 0,0 and the bottom right corner is 9,9. Each position is shown as the number of lines which cover that point or . if no line covers that point. The top-left pair of 1s, for example, comes from 2,2 -> 2,1; the very bottom row is formed by the overlapping lines 0,9 -> 5,9 and 0,9 -> 2,9.\n",
        "\n",
        "To avoid the most dangerous areas, you need to determine the number of points where at least two lines overlap. In the above example, this is anywhere in the diagram with a 2 or larger - a total of 5 points.\n",
        "\n",
        "Consider only horizontal and vertical lines. At how many points do at least two lines overlap?"
      ]
    },
    {
      "cell_type": "code",
      "metadata": {
        "id": "1THCoQ_D067H"
      },
      "source": [
        ""
      ],
      "execution_count": null,
      "outputs": []
    }
  ]
}